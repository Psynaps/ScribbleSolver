{
  "nbformat": 4,
  "nbformat_minor": 0,
  "metadata": {
    "colab": {
      "name": "Scribble Solver App.ipynb",
      "private_outputs": true,
      "provenance": [],
      "collapsed_sections": []
    },
    "kernelspec": {
      "name": "python3",
      "display_name": "Python 3"
    },
    "language_info": {
      "name": "python"
    }
  },
  "cells": [
    {
      "cell_type": "markdown",
      "metadata": {
        "id": "YU8m31135EFF"
      },
      "source": [
        "jupyter notebook --NotebookApp.allow_origin='https://colab.research.google.com' --port=8888 --NotebookApp.port_retries=0"
      ]
    },
    {
      "cell_type": "code",
      "metadata": {
        "id": "Y7rV7ecWIhyd"
      },
      "source": [
        "!pip install tk\n",
        "!pip install rdp\n",
        "!pip install pillow\n",
        "!pip install numpy\n"
      ],
      "execution_count": null,
      "outputs": []
    },
    {
      "cell_type": "code",
      "metadata": {
        "id": "k4U0EzreR2I9"
      },
      "source": [
        "from tkinter import *\n",
        "from tkinter import ttk\n",
        "import time, threading\n",
        "from PIL import Image, ImageDraw\n",
        "import numpy as np\n",
        "\n",
        "screenx, screeny, offsetx, offsety = 1280, 720 , 360, 80\n",
        "# screenx, screeny, offsetx, offsety = 256, 256 , 160, 90\n",
        "canvasImage = Image.new(\"L\", (screenx- offsetx * 2, screeny- offsety* 2), 255)\n",
        "draw = ImageDraw.Draw(canvasImage)"
      ],
      "execution_count": null,
      "outputs": []
    },
    {
      "cell_type": "code",
      "metadata": {
        "id": "fBc7WRMNaeV6"
      },
      "source": [
        "#import tkMessageBox\n",
        "\n",
        "#Globals\n",
        "lastx, lasty = 0, 0\n",
        "drawingStroke = False\n",
        "startTime, promptTime, promptStartTime =  0, 60, 0\n",
        "strokeData, currentStroke = [], []\n",
        "prompt = \"A house is on fire, what would be useful to take out the fire?\"\n",
        "prompts = [\"You're about to leave to lecture, what should you have with you?\",\n",
        "           \"A house is on fire, what would be useful to take out the fire?\",\n",
        "           \"You got lost in the woods at night, what items would be helpful to have?\",\n",
        "           \"Prompt example 4\",\n",
        "           \"Prompt example 5\"]\n",
        "# answers to prompt, in same order\n",
        "promptAnswers = [[\"calculator\", \"computer\", \"backpack\", \"laptop\", \"hand\", \"compass\", \"car\", \"bicycle\", \"eyeglasses\", \"eye\", \"pencil\", \"square\"],\n",
        "                 [\"hose\", \"firetruck\", \"broom\", 'garden hose', 'fire hydrant', 'flashlight', 'ladder', 'helmet', 'bucket'],             \n",
        "                 [\"garden hose\",'flashlight'],\n",
        "                 [\"example1\", \"example1\"],\n",
        "                 [\"example1\", \"example1\"],]\n",
        "promptIndex, correctAnswers = 0, []\n",
        "\n",
        "#Definitions\n",
        "def xy(event):\n",
        "  global lastx, lasty, currentStroke, startTime\n",
        "  lastx, lasty = event.x, event.y\n",
        "  drawingStroke = True\n",
        "  startTime = time.time()\n",
        "  currentStroke = [[event.x],[event.y],[0]]\n",
        "\n",
        "def addLine(event):\n",
        "  global lastx, lasty, currentStroke, startTime\n",
        "  distance = ((((event.x - lastx )**2) + ((event.y-lasty)**2) )**0.5)\n",
        "  if distance < 1:\n",
        "    return\n",
        "  create_circle(event.x, event.y, 20)\n",
        "  #canvas.create_line((lastx, lasty, event.x, event.y), width=20, tags=\"drawing\")\n",
        "  draw.line([event.x, event.y, lastx, lasty], fill=0, width=30)\n",
        "  lastx, lasty = event.x, event.y\n",
        "  currentStroke[0].append(event.x)\n",
        "  currentStroke[1].append(event.y)\n",
        "  currentStroke[2].append(time.time() - startTime)\n",
        "\n",
        "def create_circle(x, y, r): #center coordinates, radius\n",
        "  x0 = x - r\n",
        "  y0 = y - r\n",
        "  x1 = x + r\n",
        "  y1 = y + r\n",
        "  return canvas.create_oval(x0, y0, x1, y1, fill=\"black\", tags=\"drawing\")\n",
        "\n",
        "# Called when the button is released on the canvas\n",
        "def strokeEnd(event):\n",
        "  global strokeData, currentStroke\n",
        "  imageOutput = np.array(canvasImage)\n",
        "  drawingStroke = False\n",
        "  strokeData.append(currentStroke)\n",
        "  currentStroke = []\n",
        "  # createText(100, screeny - 50, \"Stroke\", 1, \"TempText\")\n",
        "  predictAndCheck(3)\n",
        "  #print(strokeData)\n",
        "\n",
        "# Clears all drawings in the canvas\n",
        "def clearCanvas():\n",
        "  global strokeData, currentStroke\n",
        "  canvas.delete(\"drawing\")\n",
        "  draw.rectangle([0, 0, screenx, screeny], 255)\n",
        "  strokeData = []\n",
        "  currentStroke = []\n",
        "\n",
        "# Creates a temporary text on the screen that would be deleted in time\n",
        "def createText(x=0, y=0, string=\"NullText\", time = 2, tag = \"TempText\"):\n",
        "  textCanvas.create_text(\n",
        "      x, y, fill=\"darkblue\",\n",
        "      font=\"Times 20 italic bold\",\n",
        "      text=string,\n",
        "      tags=tag)\n",
        "  if time > 0:  \n",
        "    threading.Timer(time, clearText).start()\n",
        "\n",
        "# clears the text above \n",
        "def clearText():\n",
        "  textCanvas.delete(\"TempText\")\n",
        "\n",
        "# Creates a prompt that stays on the canvas, deletes the old one if this is called again\n",
        "def createPrompt(x=0, y=0, string=\"NullText\"):\n",
        "  textCanvas.delete(\"PromptText\")\n",
        "  textCanvas.create_text(\n",
        "      x, y, fill=\"darkblue\",\n",
        "      font=\"Times 20 italic bold\",\n",
        "      text=string,\n",
        "      tags=\"PromptText\") \n",
        "  \n",
        "# Continues the prompts in the game\n",
        "def nextPrompt():\n",
        "  global prompts, promptStartTime, promptTime, promptIndex, correctAnswers\n",
        "  promptIndex += 1\n",
        "  if promptIndex >= len(prompts):\n",
        "    promptIndex += 1\n",
        "  correctAnswers = []\n",
        "  promptTime = 60\n",
        "  promptStartTime = time.time()\n",
        "  createPrompt(screenx/2, 50, prompts[promptIndex])\n",
        "  textCanvas.delete(\"FoundAnswers\")\n",
        "  updateScore()\n",
        "\n",
        "# Checks if the answer works for the prompt\n",
        "def checkAnswers(answers):\n",
        "  global promptAnswers, promptIndex, correctAnswers\n",
        "  for answer in answers:\n",
        "    print(\"checking\", answer, answer in promptAnswers[promptIndex])\n",
        "    if answer.lower() in promptAnswers[promptIndex]:\n",
        "      # createText(screenx/2, screeny - offsety + 15, answer + \" works!\", 2)\n",
        "      if answer not in correctAnswers:\n",
        "        correctAnswers.append(answer)\n",
        "        clearText()\n",
        "        createText(screenx/2, screeny - offsety + 15, writeFeedback(answer), 4)\n",
        "        updateScore()\n",
        "        break\n",
        "\n",
        "def writeFeedback(answer):\n",
        "  global promptIndex\n",
        "  feedback = answer + \" works!\"\n",
        "  if promptIndex == 0 and answer == \"hand\":\n",
        "    feedback = \"Yeah, I guess a hand technically works\"\n",
        "  elif promptIndex == 0 and answer == \"compass\":\n",
        "    feedback = \"Compass! Yes! So you dont get lost!\"\n",
        "  elif promptIndex == 0 and answer == \"square\":\n",
        "    feedback = \"Paper works!\"\n",
        "  elif promptIndex == 0 and answer == \"eye\":\n",
        "    feedback = \"Definitely need a eyes for a lecture\"\n",
        "  elif promptIndex == 0 and answer == \"eyeglasses\":\n",
        "    feedback = \"Eyeglasses? Well, I guess if you need them\"\n",
        "  elif promptIndex == 1 and answer == \"broom\":\n",
        "    feedback = \"Is that a broom?\"\n",
        "  elif promptIndex == 1 and answer == \"garden hose\":\n",
        "    feedback = \"That's a garden hose! Definitely need that!\"\n",
        "  elif promptIndex == 1 and answer == \"firetruck\":\n",
        "    feedback = \"Firetruck! Right?\"\n",
        "  return feedback\n",
        "\n",
        "# Updates the solution text of the current prompt\n",
        "def updateScore():\n",
        "  global promptAnswers, correctAnswers, promptIndex\n",
        "  textCanvas.delete(\"Score\")\n",
        "  answersLeft = str(len(correctAnswers)) + \"/\" + str(len(promptAnswers[promptIndex]))\n",
        "  print(answersLeft)\n",
        "  # createText(100, screenY - 200, \"Solutions Found: \"+answersLeft, 0, \"Score\")\n",
        "  createText(150, screeny - 200, \"Solutions Found: \"+answersLeft, 0, \"Score\")\n",
        "  textCanvas.delete(\"FoundAnswers\")\n",
        "  index = 0\n",
        "  for answers in correctAnswers:\n",
        "    createText(screenx - 200, offsety + 100 + index * 50, getAnswer(answers), 0, \"FoundAnswers\")\n",
        "    index += 1\n",
        "\n",
        "def getAnswer(answer):\n",
        "  global promptIndex\n",
        "  feedback = answer\n",
        "  if promptIndex == 0 and answer == \"square\":\n",
        "    feedback = \"paper\"\n",
        "  return feedback\n",
        "\n",
        "def updateTimer():\n",
        "  global promptStartTime, promptTime\n",
        "  textCanvas.delete(\"Timer\")\n",
        "  timeLeft = int(promptTime - (time.time() - promptStartTime))\n",
        "  if timeLeft <= 0:\n",
        "    nextPrompt()\n",
        "  createText(screenx - 100, 50, \"Time: \"+str(timeLeft), 0, \"Timer\")\n",
        "  threading.Timer(1, updateTimer).start()\n",
        "#Root Create + Setup\n",
        "root = Tk()\n",
        "root.geometry(\"1290x730\")\n",
        "\n",
        "#Canvas Create + Setup\n",
        "\n",
        "textCanvas = Canvas(root, width=screenx, height=screeny)\n",
        "textCanvas.place(x=0 ,y=0)\n",
        "\n",
        "#Generate the border of the canvas\n",
        "\n",
        "def predictAndCheck(top_n):\n",
        "  print(\"testing\")\n",
        "  item = np.array(canvasImage)\n",
        "  item = 255-item\n",
        "  item_class = 0 # just so not broken\n",
        "  print(np.shape(canvasImage))\n",
        "  preds, probs = keras_predict(model, item)\n",
        "  # print(preds)\n",
        "  # pred_classes = [label_dict[i] for i in range(top_k)]\n",
        "  pred_classes = []\n",
        "  for idx in preds:\n",
        "    # print(label_dict[idx])\n",
        "    pred_classes.append(label_dict[idx])\n",
        "  print(\"top labels:\", pred_classes)\n",
        "  pred_class = preds[0]\n",
        "  print(\"prob:\", probs[pred_class], \"label:\", pred_class)\n",
        "  predictions = pred_classes[:top_n]\n",
        "  if probs[pred_class] <= .2:\n",
        "    clearText()\n",
        "    createText(screenx/2, screeny - offsety + 15, \"I don't know what this is\", 2)\n",
        "    return\n",
        "  # checkAnswers([\"hose\"])\n",
        "  checkAnswers(predictions)\n",
        "\n",
        "\n",
        "canvas = Canvas(root, width=screenx- offsetx * 2, height=screeny- offsety* 2)\n",
        "canvas.place(x=offsetx,y=offsety)\n",
        "#canvas.grid(column=0, row=0, sticky=(N, W, E, S))\n",
        "canvas.bind(\"<Button-1>\", xy)\n",
        "canvas.bind(\"<B1-Motion>\", addLine)\n",
        "canvas.bind(\"<ButtonRelease-1>\", strokeEnd)\n",
        "canvas.create_rectangle(8,8,screenx - offsetx * 2,screeny - offsety * 2,width=10)\n",
        "\n",
        "\n",
        "# Create the clear button\n",
        "B = Button(root, text =\"Clear\", command = clearCanvas)\n",
        "buttonsize = [100, 50]\n",
        "B.place(bordermode=OUTSIDE, height=buttonsize[1], width=buttonsize[0], x = (screenx - buttonsize[0]) / 2, y=screeny - buttonsize[1])\n",
        "\n",
        "# Generate the prompt\n",
        "promptStartTime = time.time()\n",
        "createPrompt(screenx/2, 50, prompts[promptIndex])\n",
        "\n",
        "updateTimer()\n",
        "createText(150, screeny - 200, \"Solutions Found: 0/\"+str(len(promptAnswers[promptIndex])), 0, \"Score\")\n",
        "\n",
        "# checkAnswers(predictions)\n",
        "# predictAndCheck(5)\n",
        "\n",
        "#Main Loop\n",
        "root.mainloop()"
      ],
      "execution_count": null,
      "outputs": []
    },
    {
      "cell_type": "code",
      "metadata": {
        "id": "X5UjD-DIsRVC"
      },
      "source": [
        "canvasImage.save(\"test.png\")\n",
        "imageOutput = np.array(canvasImage)\n",
        "print(0 in imageOutput)\n",
        "test = Image.fromarray(imageOutput)\n",
        "test.save(\"arrayTest.png\")"
      ],
      "execution_count": null,
      "outputs": []
    },
    {
      "cell_type": "code",
      "metadata": {
        "id": "PYKfc-USAcHe"
      },
      "source": [
        "def createTest():\n",
        "  createPrompt(offsetx + screenx/2, 50, \"test\")"
      ],
      "execution_count": null,
      "outputs": []
    },
    {
      "cell_type": "code",
      "metadata": {
        "id": "AlD76nJbBJUu"
      },
      "source": [
        ""
      ],
      "execution_count": null,
      "outputs": []
    },
    {
      "cell_type": "markdown",
      "metadata": {
        "id": "N4uFySJG02X_"
      },
      "source": [
        "Load model and setup prediction functions requirements"
      ]
    },
    {
      "cell_type": "code",
      "metadata": {
        "id": "u6Dtb0ISTVQQ"
      },
      "source": [
        "!pip install scikit-learn scipy matplotlib sklearn opencv-python tensorflow==2.1.0 tensorflow-estimator==2.1.0\n",
        "# !conda install scikit-learn scipy matplotlib sklearn opencv tensorflow tensorflow-estimator=2.1.0"
      ],
      "execution_count": null,
      "outputs": []
    },
    {
      "cell_type": "code",
      "metadata": {
        "id": "tkiO0R-I0LCY"
      },
      "source": [
        "import os\n",
        "import ast\n",
        "import pickle\n",
        "# import pandas as pd\n",
        "import numpy as np\n",
        "# import seaborn as sns\n",
        "import matplotlib\n",
        "matplotlib.use('Agg')\n",
        "import matplotlib.pyplot as plt\n",
        "# from sklearn.utils import shuffle\n",
        "from pathlib import Path\n",
        "\n",
        "# from sklearn.model_selection import train_test_split\n",
        "# from sklearn.utils import shuffle\n",
        "# from keras.layers import Dense,Flatten, Conv2D\n",
        "# from keras.layers import MaxPooling2D, Dropout\n",
        "# from keras.utils import np_utils, print_summary\n",
        "from keras.utils import np_utils\n",
        "import tensorflow as tf\n",
        "import tensorflow.keras as keras\n",
        "from keras.models import Sequential\n",
        "from keras.callbacks import ModelCheckpoint, EarlyStopping\n",
        "import pickle\n",
        "from keras.callbacks import TensorBoard\n",
        "import cv2"
      ],
      "execution_count": null,
      "outputs": []
    },
    {
      "cell_type": "code",
      "metadata": {
        "id": "VAAYMIzgSAHK"
      },
      "source": [
        "# Load label dict from pickle\n",
        "path = r\"C:\\Users\\kenny\\OneDrive\\Desktop\\ScribbleSolver\\label_dict.pickle\"\n",
        "#path = r\"C:\\Users\\micha\\Desktop\\CMPM146\\ScribbleSolver\\Models\\label_dict.pickle\"\n",
        "with open(path, 'rb') as handle:\n",
        "    label_dict = pickle.load(handle)"
      ],
      "execution_count": null,
      "outputs": []
    },
    {
      "cell_type": "code",
      "metadata": {
        "id": "weTmHP2aST4R"
      },
      "source": [
        "# model_save_dir = \"/content/drive/My Drive/CMPM146 Final Project/Models/QuickDraw2.h5\"\n",
        "#model_save_dir = r\"C:\\Users\\micha\\Desktop\\CMPM146\\ScribbleSolver\\Models\\QuickDraw5.h5\"\n",
        "model_save_dir = r\"C:\\Users\\kenny\\OneDrive\\Desktop\\ScribbleSolver\\QuickDraw5.h5\"\n",
        "model = tf.keras.models.load_model(model_save_dir)\n",
        "model.summary()"
      ],
      "execution_count": null,
      "outputs": []
    },
    {
      "cell_type": "code",
      "metadata": {
        "id": "0yNAoCXAScyZ"
      },
      "source": [
        "def keras_process_image(img):\n",
        "    image_x = 28\n",
        "    image_y = 28\n",
        "    img = img / 255\n",
        "    img = cv2.resize(img, (image_x, image_y))\n",
        "    img = np.array(img, dtype=np.float32)\n",
        "    img = np.reshape(img, (-1, image_x, image_y, 1))\n",
        "    return img"
      ],
      "execution_count": null,
      "outputs": []
    },
    {
      "cell_type": "code",
      "metadata": {
        "id": "yVJAGnvaSc7F"
      },
      "source": [
        "top_k = 10\n",
        "def keras_predict(model, image):\n",
        "    processed = keras_process_image(image)\n",
        "    # print(\"processed: \" + str(processed.shape))\n",
        "    preds = model.predict(processed)[0]\n",
        "    # pred_probab = model.predict(processed)[0]\n",
        "    # topIndices = np.argpartition(preds, -1*top_k)[-1*top_k:]\n",
        "    # topIndices[np.argsort(preds[ind])]\n",
        "    topIndices = (-preds).argsort()[:top_k]\n",
        "    # print(\"preds:\", preds)\n",
        "    # print(\"preds[0]\", preds[0])\n",
        "    # print(\"indices:\", topIndices)\n",
        "    # pred_class = list(pred_probab).index(max(pred_probab))\n",
        "    # return max(pred_probab), pred_class\n",
        "    # print(topIndices, preds)\n",
        "    return topIndices, preds"
      ],
      "execution_count": null,
      "outputs": []
    },
    {
      "cell_type": "code",
      "metadata": {
        "id": "Gs_aYuicSoEa"
      },
      "source": [
        "# Takes in a grayscale 28x28 image (or size 784) and returns \n",
        "# a pair label, class_num that is the models prediction for that input data\n",
        "def predict(img):\n",
        "  # load_model = tf.keras.models.load_model('QuickDraw.h5')\n",
        "  load_model = tf.keras.models.load_model(model_save_dir)\n",
        "  # load_model.summary()\n",
        "  preds, probs = keras_predict(model, test_data)\n",
        "  print(probs)\n",
        "  pred_class = preds[0]\n",
        "  # pred_probab, pred_class = keras_predict(model, test_data)\n",
        "  print(\"Predicted class:\", pred_class, \"probability:\", probs[pred_class])\n",
        "  return pred_class, label_dict[pred_class]\n"
      ],
      "execution_count": null,
      "outputs": []
    },
    {
      "cell_type": "code",
      "metadata": {
        "id": "6VuAJrrGStIy"
      },
      "source": [
        "# test_item, test_item_class = get_item('fire hydrant')\n",
        "test_item = np.array(canvasImage)\n",
        "test_item = 255-test_item\n",
        "test_item_class = 0 # just so not broken\n",
        "print(np.shape(canvasImage))\n",
        "# print(test_item_class, label_dict[test_item_class])\n",
        "# test_img = np.reshape(test_item, (28, 28))\n",
        "# print(np.shape(test_img))\n",
        "# matplotlib.image.imsave('test.png', test_img)\n",
        "matplotlib.pyplot.imshow(test_item, cmap='binary')\n",
        "%time preds, probs = keras_predict(model, test_item)\n",
        "# pred_classes = [label_dict[i] for i in range(top_k)]\n",
        "pred_classes = []\n",
        "for idx in preds:\n",
        "  # print(label_dict[idx])\n",
        "  pred_classes.append(label_dict[idx])\n",
        "print(\"top labels:\", pred_classes)\n",
        "pred_class = preds[0]\n",
        "print(\"prob:\", probs[pred_class], \"label:\", pred_class)\n",
        "# print(\"Correct label was:\", test_item_class, label_dict[test_item_class])\n",
        "# print(\"Match: \", test_item_class == pred_class)\n",
        "# pred_class, label = predict(test_data)\n",
        "# print('Predicted label:', label + ', ', \"class:\", pred_class)\n"
      ],
      "execution_count": null,
      "outputs": []
    }
  ]
}