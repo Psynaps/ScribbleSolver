{
  "nbformat": 4,
  "nbformat_minor": 0,
  "metadata": {
    "kernelspec": {
      "name": "python3",
      "display_name": "Python 3"
    },
    "colab": {
      "name": "Limited_items_CNN.ipynb",
      "provenance": [],
      "collapsed_sections": []
    },
    "language_info": {
      "name": "python"
    },
    "accelerator": "GPU"
  },
  "cells": [
    {
      "cell_type": "code",
      "metadata": {
        "id": "xXsP6s4QzYLi"
      },
      "source": [
        "import os\n",
        "import ast\n",
        "import pickle\n",
        "import pandas as pd\n",
        "import numpy as np\n",
        "import seaborn as sns\n",
        "import matplotlib\n",
        "import matplotlib.pyplot as plt\n",
        "from sklearn.utils import shuffle\n",
        "from pathlib import Path\n",
        "\n",
        "pd.options.display.max_rows = 20\n",
        "sns.set(style=\"darkgrid\")\n",
        "%matplotlib inline"
      ],
      "execution_count": null,
      "outputs": []
    },
    {
      "cell_type": "code",
      "metadata": {
        "id": "43IEcykgJjRU",
        "colab": {
          "base_uri": "https://localhost:8080/"
        },
        "outputId": "ea553224-4907-416d-c747-9510e39e6395"
      },
      "source": [
        "!pip install -q magenta\n",
        "from magenta.models.sketch_rnn.sketch_rnn_train import *\n",
        "from magenta.models.sketch_rnn.model import *\n",
        "from magenta.models.sketch_rnn.utils import *\n",
        "from magenta.models.sketch_rnn.rnn import *"
      ],
      "execution_count": null,
      "outputs": [
        {
          "output_type": "stream",
          "name": "stdout",
          "text": [
            "\u001b[K     |████████████████████████████████| 1.4 MB 5.3 MB/s \n",
            "\u001b[K     |████████████████████████████████| 352 kB 48.0 MB/s \n",
            "\u001b[K     |████████████████████████████████| 5.6 MB 30.2 MB/s \n",
            "\u001b[K     |████████████████████████████████| 69 kB 7.1 MB/s \n",
            "\u001b[K     |████████████████████████████████| 204 kB 47.6 MB/s \n",
            "\u001b[K     |████████████████████████████████| 3.6 MB 31.4 MB/s \n",
            "\u001b[K     |████████████████████████████████| 87 kB 6.8 MB/s \n",
            "\u001b[K     |████████████████████████████████| 254 kB 45.2 MB/s \n",
            "\u001b[K     |████████████████████████████████| 1.4 MB 35.7 MB/s \n",
            "\u001b[K     |████████████████████████████████| 1.6 MB 34.3 MB/s \n",
            "\u001b[K     |████████████████████████████████| 2.3 MB 32.6 MB/s \n",
            "\u001b[K     |████████████████████████████████| 210 kB 44.6 MB/s \n",
            "\u001b[K     |████████████████████████████████| 20.2 MB 1.5 MB/s \n",
            "\u001b[K     |████████████████████████████████| 79 kB 7.3 MB/s \n",
            "\u001b[K     |████████████████████████████████| 367 kB 50.9 MB/s \n",
            "\u001b[K     |████████████████████████████████| 981 kB 46.2 MB/s \n",
            "\u001b[K     |████████████████████████████████| 366 kB 46.0 MB/s \n",
            "\u001b[K     |████████████████████████████████| 191 kB 50.7 MB/s \n",
            "\u001b[K     |████████████████████████████████| 48 kB 4.9 MB/s \n",
            "\u001b[K     |████████████████████████████████| 5.8 MB 34.1 MB/s \n",
            "\u001b[K     |████████████████████████████████| 1.1 MB 34.5 MB/s \n",
            "\u001b[K     |████████████████████████████████| 251 kB 47.3 MB/s \n",
            "\u001b[K     |████████████████████████████████| 191 kB 47.0 MB/s \n",
            "\u001b[K     |████████████████████████████████| 178 kB 39.7 MB/s \n",
            "\u001b[?25h  Building wheel for librosa (setup.py) ... \u001b[?25l\u001b[?25hdone\n",
            "  Building wheel for mir-eval (setup.py) ... \u001b[?25l\u001b[?25hdone\n",
            "  Building wheel for pretty-midi (setup.py) ... \u001b[?25l\u001b[?25hdone\n",
            "  Building wheel for pygtrie (setup.py) ... \u001b[?25l\u001b[?25hdone\n",
            "  Building wheel for python-rtmidi (setup.py) ... \u001b[?25l\u001b[?25hdone\n",
            "  Building wheel for bz2file (setup.py) ... \u001b[?25l\u001b[?25hdone\n"
          ]
        },
        {
          "output_type": "stream",
          "name": "stderr",
          "text": [
            "/usr/local/lib/python3.7/dist-packages/librosa/util/decorators.py:9: NumbaDeprecationWarning: An import was requested from a module that has moved location.\n",
            "Import requested from: 'numba.decorators', please update to use 'numba.core.decorators' or pin to Numba version 0.48.0. This alias will not be present in Numba version 0.50.0.\n",
            "  from numba.decorators import jit as optional_jit\n",
            "/usr/local/lib/python3.7/dist-packages/librosa/util/decorators.py:9: NumbaDeprecationWarning: An import was requested from a module that has moved location.\n",
            "Import of 'jit' requested from: 'numba.decorators', please update to use 'numba.core.decorators' or pin to Numba version 0.48.0. This alias will not be present in Numba version 0.50.0.\n",
            "  from numba.decorators import jit as optional_jit\n"
          ]
        }
      ]
    },
    {
      "cell_type": "code",
      "metadata": {
        "colab": {
          "base_uri": "https://localhost:8080/"
        },
        "id": "cu0YPg3sziI7",
        "outputId": "6779ea23-bbb0-4bd4-cbe0-336f92a300c6"
      },
      "source": [
        "from google.colab import drive\n",
        "drive.mount('/content/drive')"
      ],
      "execution_count": null,
      "outputs": [
        {
          "output_type": "stream",
          "name": "stdout",
          "text": [
            "Mounted at /content/drive\n"
          ]
        }
      ]
    },
    {
      "cell_type": "code",
      "metadata": {
        "colab": {
          "base_uri": "https://localhost:8080/"
        },
        "id": "JWPsE4oXzyIW",
        "outputId": "d4a8fda8-b38e-48bb-82f3-0b6e91e816d4"
      },
      "source": [
        "data_dir = \"/content/drive/My Drive/CMPM146 Final Project/Data/Bitmaps/Limited/\"\n",
        "# data_dir = \"/content/drive/Shared with me/CMPM146 Final Project/Data/Bitmaps/Limited/\"\n",
        "!ls \"/content/drive/My Drive/CMPM146 Final Project/Data/Bitmaps/Limited/\"\n",
        "# !ls \"/content/drive/Shared with me/CMPM146 Final Project/Data/Bitmaps/Limited/\""
      ],
      "execution_count": null,
      "outputs": [
        {
          "output_type": "stream",
          "name": "stdout",
          "text": [
            " backpack.npy\t     circle.npy\t\t'garden hose.npy'   map.npy\n",
            " banana.npy\t     clock.npy\t\t hammer.npy\t    megaphone.npy\n",
            " bandage.npy\t     compass.npy\t hand.npy\t    octagon.npy\n",
            "'baseball bat.npy'   computer.npy\t helicopter.npy     pencil.npy\n",
            " bicycle.npy\t     cow.npy\t\t helmet.npy\t   'power outlet.npy'\n",
            " binoculars.npy      eyeglasses.npy\t hexagon.npy\t    rifle.npy\n",
            " book.npy\t     eye.npy\t\t hourglass.npy\t    saw.npy\n",
            " broom.npy\t    'fire hydrant.npy'\t house.npy\t    shovel.npy\n",
            " bucket.npy\t     firetruck.npy\t knife.npy\t    square.npy\n",
            " calculator.npy      fish.npy\t\t ladder.npy\t    umbrella.npy\n",
            " car.npy\t     flashlight.npy\t laptop.npy\t    wristwatch.npy\n",
            " cat.npy\t     fork.npy\t\t leaf.npy\n"
          ]
        }
      ]
    },
    {
      "cell_type": "markdown",
      "metadata": {
        "id": "6lFBAhh3zYLk"
      },
      "source": [
        "### Download the data"
      ]
    },
    {
      "cell_type": "code",
      "metadata": {
        "id": "QJrXtc3opR2F"
      },
      "source": [
        "items = ['cat', 'cow', 'fish', 'hexagon', 'house', 'clock', 'eye', 'hand', 'hourglass', 'leaf']\n",
        "# items = ['hexagon', 'clock']\n",
        "all_items = []\n",
        "label_dict = {}"
      ],
      "execution_count": null,
      "outputs": []
    },
    {
      "cell_type": "code",
      "metadata": {
        "id": "XuP2Whvy2Gsl"
      },
      "source": [
        "# x_train = x_test = x_valid = y_train = y_test = y_valid = []\n",
        "test_data = []\n",
        "test_label = ''\n",
        "include_all = True\n",
        "def load_data():\n",
        "  global test_data\n",
        "  global test_label\n",
        "  # !nvidia-smi\n",
        "  x = y = item = item_labels = []\n",
        "  first = True\n",
        "  count = 0\n",
        "  entries_per_item = 10000\n",
        "  for filename in os.listdir(data_dir):\n",
        "    # print(filename)\n",
        "    if filename.endswith(\".npy\"):\n",
        "      # itemname = filename[0:filename.index('.npz')]\n",
        "      if \"full\" not in filename:\n",
        "        \n",
        "        itemname = filename[0:filename.index('.npy')]\n",
        "        all_items.append(itemname)\n",
        "        print(\"added:\", itemname)\n",
        "        if (itemname in items) or include_all:\n",
        "          path = data_dir + filename\n",
        "          # print(\"path:\", path)\n",
        "          item = np.load(path)\n",
        "          item = item.astype('float32') / 255.\n",
        "          item = item[0:entries_per_item, :]\n",
        "          if itemname == 'eye':\n",
        "            test_data = item[0]\n",
        "            test_label = count\n",
        "          item_labels = [count for _ in range(entries_per_item)]\n",
        "          label_dict[count] = itemname\n",
        "          count += 1\n",
        "          item_labels = np.array(item_labels).astype('float32')\n",
        "          item_labels = item_labels.reshape(item_labels.shape[0], 1)\n",
        "          if not first:\n",
        "            x = np.concatenate((x, item), axis=0)\n",
        "            y = np.concatenate((y, item_labels), axis=0)\n",
        "          else:\n",
        "            x = item\n",
        "            y = item_labels\n",
        "            first = False\n",
        "  return x, y"
      ],
      "execution_count": null,
      "outputs": []
    },
    {
      "cell_type": "code",
      "metadata": {
        "id": "4k-uDOjFNJFr"
      },
      "source": [
        "def get_item(itemname, idx):\n",
        "  filename = data_dir + itemname + '.npy'\n",
        "  my_file = Path(filename)\n",
        "  if my_file.is_file():\n",
        "    item = np.load(filename)\n",
        "    item = item.astype('float32') / 255.\n",
        "    print('item base shape:', np.shape(item))\n",
        "    # item = item[0:50000, :]\n",
        "    item_class = list(label_dict.keys())[list(label_dict.values()).index(itemname)]\n",
        "    return item[idx], item_class\n",
        "    # file exists\n",
        "  else: \n",
        "    print(\"file for item not found:\", itemname)"
      ],
      "execution_count": null,
      "outputs": []
    },
    {
      "cell_type": "code",
      "metadata": {
        "colab": {
          "base_uri": "https://localhost:8080/"
        },
        "id": "_1OAH2GAgyKK",
        "outputId": "78470f4d-48d0-4539-a5d0-fbf993054bc5"
      },
      "source": [
        "features, labels = load_data()\n",
        "features = np.array(features, dtype='float32')\n",
        "labels = np.array(labels, dtype='float32')\n",
        "# features=features.reshape(features.shape[0]*features.shape[1],features.shape[2])\n",
        "# labels=labels.reshape(labels.shape[0]*labels.shape[1],labels.shape[2])\n",
        "print(\"features shape:\", np.shape(features))\n",
        "print(\"labels shape:\", np.shape(labels))\n",
        "# print(\"test data:\", test_data)\n",
        "print(items)\n",
        "print(\"test data:\", np.shape(test_data))\n",
        "print(\"test label:\", test_label)\n",
        "# print(\"num categories:\", i)\n",
        "# print(\"all items:\", all_items)\n",
        "# print(\"valid_items:\", valid_items)\n",
        "print(\"label_dict:\", label_dict)\n",
        "with open(\"label_dict.pickle\", \"wb\") as f:\n",
        "    pickle.dump(label_dict, f, protocol=pickle.HIGHEST_PROTOCOL)\n",
        "\n",
        "label_dict_path = \"/content/drive/My Drive/CMPM146 Final Project/Models/label_dict.pickle\"\n",
        "with open(label_dict_path, \"wb\") as f:\n",
        "    pickle.dump(label_dict, f, protocol=pickle.HIGHEST_PROTOCOL)\n",
        "\n",
        "# test picle load\n",
        "with open('label_dict.pickle', 'rb') as handle:\n",
        "    labels_unpickled = pickle.load(handle)\n",
        "\n",
        "print(label_dict == labels_unpickled)"
      ],
      "execution_count": null,
      "outputs": [
        {
          "output_type": "stream",
          "name": "stdout",
          "text": [
            "added: banana\n",
            "added: backpack\n",
            "added: baseball bat\n",
            "added: bandage\n",
            "added: book\n",
            "added: binoculars\n",
            "added: bicycle\n",
            "added: bucket\n",
            "added: cat\n",
            "added: broom\n",
            "added: clock\n",
            "added: circle\n",
            "added: computer\n",
            "added: calculator\n",
            "added: compass\n",
            "added: eye\n",
            "added: car\n",
            "added: eyeglasses\n",
            "added: fish\n",
            "added: garden hose\n",
            "added: fire hydrant\n",
            "added: fork\n",
            "added: hammer\n",
            "added: flashlight\n",
            "added: firetruck\n",
            "added: helicopter\n",
            "added: helmet\n",
            "added: house\n",
            "added: hourglass\n",
            "added: hexagon\n",
            "added: hand\n",
            "added: leaf\n",
            "added: ladder\n",
            "added: laptop\n",
            "added: megaphone\n",
            "added: map\n",
            "added: knife\n",
            "added: octagon\n",
            "added: pencil\n",
            "added: power outlet\n",
            "added: saw\n",
            "added: shovel\n",
            "added: rifle\n",
            "added: square\n",
            "added: umbrella\n",
            "added: wristwatch\n",
            "added: cow\n",
            "features shape: (470000, 784)\n",
            "labels shape: (470000, 1)\n",
            "['cat', 'cow', 'fish', 'hexagon', 'house', 'clock', 'eye', 'hand', 'hourglass', 'leaf']\n",
            "test data: (784,)\n",
            "test label: 15\n",
            "label_dict: {0: 'banana', 1: 'backpack', 2: 'baseball bat', 3: 'bandage', 4: 'book', 5: 'binoculars', 6: 'bicycle', 7: 'bucket', 8: 'cat', 9: 'broom', 10: 'clock', 11: 'circle', 12: 'computer', 13: 'calculator', 14: 'compass', 15: 'eye', 16: 'car', 17: 'eyeglasses', 18: 'fish', 19: 'garden hose', 20: 'fire hydrant', 21: 'fork', 22: 'hammer', 23: 'flashlight', 24: 'firetruck', 25: 'helicopter', 26: 'helmet', 27: 'house', 28: 'hourglass', 29: 'hexagon', 30: 'hand', 31: 'leaf', 32: 'ladder', 33: 'laptop', 34: 'megaphone', 35: 'map', 36: 'knife', 37: 'octagon', 38: 'pencil', 39: 'power outlet', 40: 'saw', 41: 'shovel', 42: 'rifle', 43: 'square', 44: 'umbrella', 45: 'wristwatch', 46: 'cow'}\n",
            "True\n"
          ]
        }
      ]
    },
    {
      "cell_type": "code",
      "metadata": {
        "id": "91YifSLJkrQ3",
        "colab": {
          "base_uri": "https://localhost:8080/",
          "height": 183
        },
        "outputId": "49c4f9bc-b177-48b0-f2c8-9dc2d360889b"
      },
      "source": [
        "with open(label_dict_path, 'rb') as handle:\n",
        "    label_dict = pickle.load(handle)"
      ],
      "execution_count": null,
      "outputs": [
        {
          "output_type": "error",
          "ename": "NameError",
          "evalue": "ignored",
          "traceback": [
            "\u001b[0;31m---------------------------------------------------------------------------\u001b[0m",
            "\u001b[0;31mNameError\u001b[0m                                 Traceback (most recent call last)",
            "\u001b[0;32m<ipython-input-5-5514796a6bf7>\u001b[0m in \u001b[0;36m<module>\u001b[0;34m()\u001b[0m\n\u001b[0;32m----> 1\u001b[0;31m \u001b[0;32mwith\u001b[0m \u001b[0mopen\u001b[0m\u001b[0;34m(\u001b[0m\u001b[0mlabel_dict_path\u001b[0m\u001b[0;34m,\u001b[0m \u001b[0;34m'rb'\u001b[0m\u001b[0;34m)\u001b[0m \u001b[0;32mas\u001b[0m \u001b[0mhandle\u001b[0m\u001b[0;34m:\u001b[0m\u001b[0;34m\u001b[0m\u001b[0;34m\u001b[0m\u001b[0m\n\u001b[0m\u001b[1;32m      2\u001b[0m     \u001b[0mlabel_dict\u001b[0m \u001b[0;34m=\u001b[0m \u001b[0mpickle\u001b[0m\u001b[0;34m.\u001b[0m\u001b[0mload\u001b[0m\u001b[0;34m(\u001b[0m\u001b[0mhandle\u001b[0m\u001b[0;34m)\u001b[0m\u001b[0;34m\u001b[0m\u001b[0;34m\u001b[0m\u001b[0m\n",
            "\u001b[0;31mNameError\u001b[0m: name 'label_dict_path' is not defined"
          ]
        }
      ]
    },
    {
      "cell_type": "code",
      "metadata": {
        "id": "CL6e9J7zhJVd"
      },
      "source": [
        "label_dict_path = \"/content/drive/My Drive/CMPM146 Final Project/Models/label_dict.pickle\"\n",
        "with open(label_dict_path, 'rb') as handle:\n",
        "    label_dict = pickle.load(handle)"
      ],
      "execution_count": null,
      "outputs": []
    },
    {
      "cell_type": "markdown",
      "metadata": {
        "id": "Gtb6zeWSSi36"
      },
      "source": [
        "### Simple"
      ]
    },
    {
      "cell_type": "code",
      "metadata": {
        "id": "0j7EOu3gg4sA",
        "colab": {
          "base_uri": "https://localhost:8080/"
        },
        "outputId": "e06f9a76-dd40-4a9a-b664-4018a8d35158"
      },
      "source": [
        "!pip install tensorflow==2.1.0\n",
        "!pip install np_utils\n",
        "!pip install h5py==2.10.0"
      ],
      "execution_count": null,
      "outputs": [
        {
          "output_type": "stream",
          "name": "stdout",
          "text": [
            "Requirement already satisfied: tensorflow==2.1.0 in /usr/local/lib/python3.7/dist-packages (2.1.0)\n",
            "Requirement already satisfied: tensorflow-estimator<2.2.0,>=2.1.0rc0 in /usr/local/lib/python3.7/dist-packages (from tensorflow==2.1.0) (2.1.0)\n",
            "Requirement already satisfied: astor>=0.6.0 in /usr/local/lib/python3.7/dist-packages (from tensorflow==2.1.0) (0.8.1)\n",
            "Requirement already satisfied: opt-einsum>=2.3.2 in /usr/local/lib/python3.7/dist-packages (from tensorflow==2.1.0) (3.3.0)\n",
            "Requirement already satisfied: numpy<2.0,>=1.16.0 in /usr/local/lib/python3.7/dist-packages (from tensorflow==2.1.0) (1.19.5)\n",
            "Requirement already satisfied: six>=1.12.0 in /usr/local/lib/python3.7/dist-packages (from tensorflow==2.1.0) (1.15.0)\n",
            "Requirement already satisfied: grpcio>=1.8.6 in /usr/local/lib/python3.7/dist-packages (from tensorflow==2.1.0) (1.42.0)\n",
            "Requirement already satisfied: termcolor>=1.1.0 in /usr/local/lib/python3.7/dist-packages (from tensorflow==2.1.0) (1.1.0)\n",
            "Requirement already satisfied: gast==0.2.2 in /usr/local/lib/python3.7/dist-packages (from tensorflow==2.1.0) (0.2.2)\n",
            "Requirement already satisfied: wrapt>=1.11.1 in /usr/local/lib/python3.7/dist-packages (from tensorflow==2.1.0) (1.13.3)\n",
            "Requirement already satisfied: scipy==1.4.1 in /usr/local/lib/python3.7/dist-packages (from tensorflow==2.1.0) (1.4.1)\n",
            "Requirement already satisfied: google-pasta>=0.1.6 in /usr/local/lib/python3.7/dist-packages (from tensorflow==2.1.0) (0.2.0)\n",
            "Requirement already satisfied: keras-preprocessing>=1.1.0 in /usr/local/lib/python3.7/dist-packages (from tensorflow==2.1.0) (1.1.2)\n",
            "Requirement already satisfied: wheel>=0.26 in /usr/local/lib/python3.7/dist-packages (from tensorflow==2.1.0) (0.37.0)\n",
            "Requirement already satisfied: tensorboard<2.2.0,>=2.1.0 in /usr/local/lib/python3.7/dist-packages (from tensorflow==2.1.0) (2.1.1)\n",
            "Requirement already satisfied: protobuf>=3.8.0 in /usr/local/lib/python3.7/dist-packages (from tensorflow==2.1.0) (3.17.3)\n",
            "Requirement already satisfied: keras-applications>=1.0.8 in /usr/local/lib/python3.7/dist-packages (from tensorflow==2.1.0) (1.0.8)\n",
            "Requirement already satisfied: absl-py>=0.7.0 in /usr/local/lib/python3.7/dist-packages (from tensorflow==2.1.0) (0.12.0)\n",
            "Requirement already satisfied: h5py in /usr/local/lib/python3.7/dist-packages (from keras-applications>=1.0.8->tensorflow==2.1.0) (2.10.0)\n",
            "Requirement already satisfied: markdown>=2.6.8 in /usr/local/lib/python3.7/dist-packages (from tensorboard<2.2.0,>=2.1.0->tensorflow==2.1.0) (3.3.6)\n",
            "Requirement already satisfied: werkzeug>=0.11.15 in /usr/local/lib/python3.7/dist-packages (from tensorboard<2.2.0,>=2.1.0->tensorflow==2.1.0) (1.0.1)\n",
            "Requirement already satisfied: google-auth-oauthlib<0.5,>=0.4.1 in /usr/local/lib/python3.7/dist-packages (from tensorboard<2.2.0,>=2.1.0->tensorflow==2.1.0) (0.4.6)\n",
            "Requirement already satisfied: google-auth<2,>=1.6.3 in /usr/local/lib/python3.7/dist-packages (from tensorboard<2.2.0,>=2.1.0->tensorflow==2.1.0) (1.35.0)\n",
            "Requirement already satisfied: setuptools>=41.0.0 in /usr/local/lib/python3.7/dist-packages (from tensorboard<2.2.0,>=2.1.0->tensorflow==2.1.0) (57.4.0)\n",
            "Requirement already satisfied: requests<3,>=2.21.0 in /usr/local/lib/python3.7/dist-packages (from tensorboard<2.2.0,>=2.1.0->tensorflow==2.1.0) (2.23.0)\n",
            "Requirement already satisfied: rsa<5,>=3.1.4 in /usr/local/lib/python3.7/dist-packages (from google-auth<2,>=1.6.3->tensorboard<2.2.0,>=2.1.0->tensorflow==2.1.0) (4.8)\n",
            "Requirement already satisfied: cachetools<5.0,>=2.0.0 in /usr/local/lib/python3.7/dist-packages (from google-auth<2,>=1.6.3->tensorboard<2.2.0,>=2.1.0->tensorflow==2.1.0) (4.2.4)\n",
            "Requirement already satisfied: pyasn1-modules>=0.2.1 in /usr/local/lib/python3.7/dist-packages (from google-auth<2,>=1.6.3->tensorboard<2.2.0,>=2.1.0->tensorflow==2.1.0) (0.2.8)\n",
            "Requirement already satisfied: requests-oauthlib>=0.7.0 in /usr/local/lib/python3.7/dist-packages (from google-auth-oauthlib<0.5,>=0.4.1->tensorboard<2.2.0,>=2.1.0->tensorflow==2.1.0) (1.3.0)\n",
            "Requirement already satisfied: importlib-metadata>=4.4 in /usr/local/lib/python3.7/dist-packages (from markdown>=2.6.8->tensorboard<2.2.0,>=2.1.0->tensorflow==2.1.0) (4.8.2)\n",
            "Requirement already satisfied: zipp>=0.5 in /usr/local/lib/python3.7/dist-packages (from importlib-metadata>=4.4->markdown>=2.6.8->tensorboard<2.2.0,>=2.1.0->tensorflow==2.1.0) (3.6.0)\n",
            "Requirement already satisfied: typing-extensions>=3.6.4 in /usr/local/lib/python3.7/dist-packages (from importlib-metadata>=4.4->markdown>=2.6.8->tensorboard<2.2.0,>=2.1.0->tensorflow==2.1.0) (3.10.0.2)\n",
            "Requirement already satisfied: pyasn1<0.5.0,>=0.4.6 in /usr/local/lib/python3.7/dist-packages (from pyasn1-modules>=0.2.1->google-auth<2,>=1.6.3->tensorboard<2.2.0,>=2.1.0->tensorflow==2.1.0) (0.4.8)\n",
            "Requirement already satisfied: idna<3,>=2.5 in /usr/local/lib/python3.7/dist-packages (from requests<3,>=2.21.0->tensorboard<2.2.0,>=2.1.0->tensorflow==2.1.0) (2.10)\n",
            "Requirement already satisfied: certifi>=2017.4.17 in /usr/local/lib/python3.7/dist-packages (from requests<3,>=2.21.0->tensorboard<2.2.0,>=2.1.0->tensorflow==2.1.0) (2021.10.8)\n",
            "Requirement already satisfied: urllib3!=1.25.0,!=1.25.1,<1.26,>=1.21.1 in /usr/local/lib/python3.7/dist-packages (from requests<3,>=2.21.0->tensorboard<2.2.0,>=2.1.0->tensorflow==2.1.0) (1.24.3)\n",
            "Requirement already satisfied: chardet<4,>=3.0.2 in /usr/local/lib/python3.7/dist-packages (from requests<3,>=2.21.0->tensorboard<2.2.0,>=2.1.0->tensorflow==2.1.0) (3.0.4)\n",
            "Requirement already satisfied: oauthlib>=3.0.0 in /usr/local/lib/python3.7/dist-packages (from requests-oauthlib>=0.7.0->google-auth-oauthlib<0.5,>=0.4.1->tensorboard<2.2.0,>=2.1.0->tensorflow==2.1.0) (3.1.1)\n",
            "Requirement already satisfied: np_utils in /usr/local/lib/python3.7/dist-packages (0.5.12.1)\n",
            "Requirement already satisfied: future>=0.16 in /usr/local/lib/python3.7/dist-packages (from np_utils) (0.16.0)\n",
            "Requirement already satisfied: numpy>=1.0 in /usr/local/lib/python3.7/dist-packages (from np_utils) (1.19.5)\n",
            "Requirement already satisfied: h5py==2.10.0 in /usr/local/lib/python3.7/dist-packages (2.10.0)\n",
            "Requirement already satisfied: six in /usr/local/lib/python3.7/dist-packages (from h5py==2.10.0) (1.15.0)\n",
            "Requirement already satisfied: numpy>=1.7 in /usr/local/lib/python3.7/dist-packages (from h5py==2.10.0) (1.19.5)\n"
          ]
        }
      ]
    },
    {
      "cell_type": "code",
      "metadata": {
        "id": "JXhOcLVrSyYB"
      },
      "source": [
        "from sklearn.model_selection import train_test_split\n",
        "from sklearn.utils import shuffle\n",
        "import tensorflow as tf\n",
        "from tensorflow import keras as keras\n",
        "# import tensorflow.keras\n",
        "from tensorflow.keras.layers import Dense,Flatten, Conv2D\n",
        "from tensorflow.keras.layers import MaxPooling2D, Dropout\n",
        "# from keras.utils import np_utils, print_summary\n",
        "import h5py\n",
        "from tensorflow.keras.utils import to_categorical\n",
        "from tensorflow.keras import utils\n",
        "from tensorflow.keras.models import Sequential\n",
        "from tensorflow.keras.callbacks import ModelCheckpoint, EarlyStopping\n",
        "import pickle\n",
        "from tensorflow.keras.callbacks import TensorBoard\n",
        "import cv2"
      ],
      "execution_count": null,
      "outputs": []
    },
    {
      "cell_type": "code",
      "metadata": {
        "colab": {
          "base_uri": "https://localhost:8080/"
        },
        "id": "rEZ0zCDkcBPy",
        "outputId": "b26c52c5-fd8c-40da-81b8-e0db3804ccb5"
      },
      "source": [
        "print(tf.__version__)\n",
        "print(keras.__version__)\n",
        "print(h5py.__version__)\n",
        "# print(tensorflow-estimator.__version__)"
      ],
      "execution_count": null,
      "outputs": [
        {
          "output_type": "stream",
          "name": "stdout",
          "text": [
            "2.7.0\n",
            "2.7.0\n",
            "3.1.0\n"
          ]
        }
      ]
    },
    {
      "cell_type": "code",
      "metadata": {
        "id": "54YCH9e8IWuY"
      },
      "source": [
        "def keras_model(image_x, image_y):\n",
        "    num_of_classes = len(label_dict)\n",
        "    model = Sequential()\n",
        "    model.add(Conv2D(32, (5, 5), input_shape=(image_x,image_y,1), activation='relu'))\n",
        "    model.add(Conv2D(32, (5, 5), activation='relu'))\n",
        "    model.add(MaxPooling2D(pool_size=(2, 2), strides=(2, 2), padding='same'))\n",
        "    model.add(Dropout(0.25))\n",
        "    \n",
        "    model.add(MaxPooling2D(pool_size=(2, 2), strides=(2, 2), padding='same'))\n",
        "    model.add(Conv2D(64, (5, 5), activation='relu'))\n",
        "    model.add(MaxPooling2D(pool_size=(2, 2), strides=(2, 2), padding='same'))\n",
        "\n",
        "    model.add(Flatten())\n",
        "    model.add(Dense(512, activation='relu'))\n",
        "    model.add(Dropout(0.5))\n",
        "    model.add(Dense(128, activation='relu'))\n",
        "    model.add(Dropout(0.5))\n",
        "    model.add(Dense(num_of_classes, activation='softmax'))\n",
        "\n",
        "    model.compile(loss='categorical_crossentropy', optimizer='Adam', metrics=['acc'])\n",
        "    filepath = \"QuickDraw.h5\"\n",
        "    # checkpoint = ModelCheckpoint(filepath, monitor='val_acc', verbose=0, save_best_only=True, mode='max')\n",
        "    es = EarlyStopping(monitor='val_acc', verbose=1,\n",
        "                   patience=6, restore_best_weights=True)\n",
        "    # callbacks_list = [checkpoint]\n",
        "    callbacks_list = [es]\n",
        "\n",
        "    return model, callbacks_list"
      ],
      "execution_count": null,
      "outputs": []
    },
    {
      "cell_type": "code",
      "metadata": {
        "id": "cxqbtgdIi_uB"
      },
      "source": [
        "# def transfer_model2(image_x, image_y):\n",
        "#     num_of_classes = len(label_dict)\n",
        "#     model = Sequential()\n",
        "#     model.add(Conv2D(32, (5, 5), input_shape=(image_x,image_y,1), activation='relu'))\n",
        "#     model.add(Conv2D(32, (5, 5), activation='relu'))\n",
        "#     model.add(MaxPooling2D(pool_size=(2, 2), strides=(2, 2), padding='same'))\n",
        "#     model.add(Dropout(0.25))\n",
        "    \n",
        "#     model.add(MaxPooling2D(pool_size=(2, 2), strides=(2, 2), padding='same'))\n",
        "#     model.add(Conv2D(64, (5, 5), activation='relu'))\n",
        "#     model.add(MaxPooling2D(pool_size=(2, 2), strides=(2, 2), padding='same'))\n",
        "\n",
        "#     model.add(Flatten())\n",
        "#     model.add(Dense(512, activation='relu'))\n",
        "#     model.add(Dropout(0.5))\n",
        "#     model.add(Dense(128, activation='relu'))\n",
        "#     model.add(Dropout(0.5))\n",
        "#     model.add(Dense(num_of_classes, activation='softmax'))\n",
        "\n",
        "#     model.compile(loss='categorical_crossentropy', optimizer='Adam', metrics=['acc'])\n",
        "#     filepath = \"QuickDraw.h5\"\n",
        "#     # checkpoint = ModelCheckpoint(filepath, monitor='val_acc', verbose=0, save_best_only=True, mode='max')\n",
        "#     es = EarlyStopping(monitor='val_acc', verbose=1,\n",
        "#                    patience=6, restore_best_weights=True)\n",
        "#     # callbacks_list = [checkpoint]\n",
        "#     callbacks_list = [es]\n",
        "\n",
        "#     return model, callbacks_list"
      ],
      "execution_count": null,
      "outputs": []
    },
    {
      "cell_type": "code",
      "metadata": {
        "id": "5lRpB0RRI6ve"
      },
      "source": [
        "def prepress_labels(labels):\n",
        "    labels = to_categorical(labels)\n",
        "    return labels"
      ],
      "execution_count": null,
      "outputs": []
    },
    {
      "cell_type": "code",
      "metadata": {
        "colab": {
          "base_uri": "https://localhost:8080/"
        },
        "id": "HXPUb85GJAif",
        "outputId": "335b0d02-094c-4e64-b259-75ce69effac3"
      },
      "source": [
        "# features, labels = load_data()\n",
        "print(\"num items:\", len(label_dict))\n",
        "features = np.array(features, dtype='float32')\n",
        "labels = np.array(labels, dtype='float32')\n",
        "features, labels = shuffle(features, labels)\n",
        "labels=prepress_labels(labels)\n",
        "train_x, test_x, train_y, test_y = train_test_split(features, labels, random_state=0,\n",
        "                                                    test_size=0.1)\n",
        "train_x = train_x.reshape(train_x.shape[0], 28, 28, 1)\n",
        "test_x = test_x.reshape(test_x.shape[0], 28, 28, 1)\n",
        "model, callbacks_list = keras_model(28,28)\n",
        "# print_summary(model)\n",
        "model.summary()"
      ],
      "execution_count": null,
      "outputs": [
        {
          "output_type": "stream",
          "name": "stdout",
          "text": [
            "num items: 47\n",
            "Model: \"sequential\"\n",
            "_________________________________________________________________\n",
            "Layer (type)                 Output Shape              Param #   \n",
            "=================================================================\n",
            "conv2d (Conv2D)              (None, 24, 24, 32)        832       \n",
            "_________________________________________________________________\n",
            "conv2d_1 (Conv2D)            (None, 20, 20, 32)        25632     \n",
            "_________________________________________________________________\n",
            "max_pooling2d (MaxPooling2D) (None, 10, 10, 32)        0         \n",
            "_________________________________________________________________\n",
            "dropout (Dropout)            (None, 10, 10, 32)        0         \n",
            "_________________________________________________________________\n",
            "max_pooling2d_1 (MaxPooling2 (None, 5, 5, 32)          0         \n",
            "_________________________________________________________________\n",
            "conv2d_2 (Conv2D)            (None, 1, 1, 64)          51264     \n",
            "_________________________________________________________________\n",
            "max_pooling2d_2 (MaxPooling2 (None, 1, 1, 64)          0         \n",
            "_________________________________________________________________\n",
            "flatten (Flatten)            (None, 64)                0         \n",
            "_________________________________________________________________\n",
            "dense (Dense)                (None, 512)               33280     \n",
            "_________________________________________________________________\n",
            "dropout_1 (Dropout)          (None, 512)               0         \n",
            "_________________________________________________________________\n",
            "dense_1 (Dense)              (None, 128)               65664     \n",
            "_________________________________________________________________\n",
            "dropout_2 (Dropout)          (None, 128)               0         \n",
            "_________________________________________________________________\n",
            "dense_2 (Dense)              (None, 47)                6063      \n",
            "=================================================================\n",
            "Total params: 182,735\n",
            "Trainable params: 182,735\n",
            "Non-trainable params: 0\n",
            "_________________________________________________________________\n"
          ]
        }
      ]
    },
    {
      "cell_type": "code",
      "metadata": {
        "id": "h67DnYqkYfXT"
      },
      "source": [
        "# model_save_dir = \"/content/drive/My Drive/CMPM146 Final Project/Models/QuickDraw5.h5\""
      ],
      "execution_count": null,
      "outputs": []
    },
    {
      "cell_type": "code",
      "metadata": {
        "colab": {
          "base_uri": "https://localhost:8080/"
        },
        "id": "SMfs6jkCMdCN",
        "outputId": "0875e4b1-c49c-4839-ac7f-734e881ef085"
      },
      "source": [
        "epochs = 30\n",
        "model.fit(train_x, train_y, validation_data=(test_x, test_y), epochs=epochs, batch_size=64,\n",
        "          callbacks=callbacks_list.append(TensorBoard(log_dir=\"QuickDraw\")), verbose=1)\n",
        "model.save('QuickDraw.h5')\n",
        "model_save_dir = \"/content/drive/My Drive/CMPM146 Final Project/Models/QuickDraw5.h5\"\n",
        "# model_save_dir = \"/content/drive/Shared with me/CMPM146 Final Project/Models/QuickDraw5.h5\"\n",
        "model.save(model_save_dir, save_format='h5')\n"
      ],
      "execution_count": null,
      "outputs": [
        {
          "output_type": "stream",
          "name": "stdout",
          "text": [
            "Train on 423000 samples, validate on 47000 samples\n",
            "Epoch 1/40\n",
            "423000/423000 [==============================] - 71s 169us/sample - loss: 1.3021 - acc: 0.6505 - val_loss: 0.8352 - val_acc: 0.7805\n",
            "Epoch 2/40\n",
            "423000/423000 [==============================] - 65s 155us/sample - loss: 0.9189 - acc: 0.7631 - val_loss: 0.7279 - val_acc: 0.8059\n",
            "Epoch 3/40\n",
            "423000/423000 [==============================] - 66s 157us/sample - loss: 0.8473 - acc: 0.7831 - val_loss: 0.6955 - val_acc: 0.8127\n",
            "Epoch 4/40\n",
            "423000/423000 [==============================] - 66s 157us/sample - loss: 0.8106 - acc: 0.7930 - val_loss: 0.6556 - val_acc: 0.8255\n",
            "Epoch 5/40\n",
            "423000/423000 [==============================] - 67s 158us/sample - loss: 0.7900 - acc: 0.7990 - val_loss: 0.6609 - val_acc: 0.8229\n",
            "Epoch 6/40\n",
            "423000/423000 [==============================] - 65s 154us/sample - loss: 0.7765 - acc: 0.8023 - val_loss: 0.6567 - val_acc: 0.8264\n",
            "Epoch 7/40\n",
            "423000/423000 [==============================] - 66s 156us/sample - loss: 0.7639 - acc: 0.8065 - val_loss: 0.6571 - val_acc: 0.8254\n",
            "Epoch 8/40\n",
            "423000/423000 [==============================] - 66s 157us/sample - loss: 0.7553 - acc: 0.8077 - val_loss: 0.6448 - val_acc: 0.8280\n",
            "Epoch 9/40\n",
            "423000/423000 [==============================] - 66s 157us/sample - loss: 0.7467 - acc: 0.8106 - val_loss: 0.6465 - val_acc: 0.8293\n",
            "Epoch 10/40\n",
            "423000/423000 [==============================] - 66s 156us/sample - loss: 0.7419 - acc: 0.8122 - val_loss: 0.6281 - val_acc: 0.8326\n",
            "Epoch 11/40\n",
            "423000/423000 [==============================] - 66s 157us/sample - loss: 0.7360 - acc: 0.8135 - val_loss: 0.6272 - val_acc: 0.8330\n",
            "Epoch 12/40\n",
            "423000/423000 [==============================] - 66s 155us/sample - loss: 0.7310 - acc: 0.8142 - val_loss: 0.6251 - val_acc: 0.8341\n",
            "Epoch 13/40\n",
            "423000/423000 [==============================] - 66s 156us/sample - loss: 0.7263 - acc: 0.8158 - val_loss: 0.6183 - val_acc: 0.8364\n",
            "Epoch 14/40\n",
            "423000/423000 [==============================] - 66s 157us/sample - loss: 0.7236 - acc: 0.8169 - val_loss: 0.6110 - val_acc: 0.8379\n",
            "Epoch 15/40\n",
            "423000/423000 [==============================] - 66s 156us/sample - loss: 0.7177 - acc: 0.8186 - val_loss: 0.6141 - val_acc: 0.8358\n",
            "Epoch 16/40\n",
            "423000/423000 [==============================] - 66s 156us/sample - loss: 0.7154 - acc: 0.8189 - val_loss: 0.6294 - val_acc: 0.8341\n",
            "Epoch 17/40\n",
            "423000/423000 [==============================] - 66s 157us/sample - loss: 0.7136 - acc: 0.8195 - val_loss: 0.6147 - val_acc: 0.8369\n",
            "Epoch 18/40\n",
            "423000/423000 [==============================] - 66s 157us/sample - loss: 0.7099 - acc: 0.8202 - val_loss: 0.6215 - val_acc: 0.8360\n",
            "Epoch 19/40\n",
            "423000/423000 [==============================] - 67s 158us/sample - loss: 0.7056 - acc: 0.8216 - val_loss: 0.6220 - val_acc: 0.8349\n",
            "Epoch 20/40\n",
            "423000/423000 [==============================] - 67s 158us/sample - loss: 0.7049 - acc: 0.8220 - val_loss: 0.6065 - val_acc: 0.8395\n",
            "Epoch 21/40\n",
            "423000/423000 [==============================] - 66s 157us/sample - loss: 0.7035 - acc: 0.8224 - val_loss: 0.6062 - val_acc: 0.8403\n",
            "Epoch 22/40\n",
            "423000/423000 [==============================] - 67s 157us/sample - loss: 0.7004 - acc: 0.8229 - val_loss: 0.6164 - val_acc: 0.8360\n",
            "Epoch 23/40\n",
            "423000/423000 [==============================] - 67s 157us/sample - loss: 0.6982 - acc: 0.8234 - val_loss: 0.6048 - val_acc: 0.8394\n",
            "Epoch 24/40\n",
            "423000/423000 [==============================] - 67s 157us/sample - loss: 0.6982 - acc: 0.8236 - val_loss: 0.6164 - val_acc: 0.8378\n",
            "Epoch 25/40\n",
            "423000/423000 [==============================] - 67s 158us/sample - loss: 0.6956 - acc: 0.8242 - val_loss: 0.6026 - val_acc: 0.8411\n",
            "Epoch 26/40\n",
            "423000/423000 [==============================] - 65s 155us/sample - loss: 0.6948 - acc: 0.8248 - val_loss: 0.6042 - val_acc: 0.8394\n",
            "Epoch 27/40\n",
            "423000/423000 [==============================] - 65s 155us/sample - loss: 0.6903 - acc: 0.8258 - val_loss: 0.6132 - val_acc: 0.8365\n",
            "Epoch 28/40\n",
            "423000/423000 [==============================] - 66s 157us/sample - loss: 0.6919 - acc: 0.8250 - val_loss: 0.6231 - val_acc: 0.8353\n",
            "Epoch 29/40\n",
            "423000/423000 [==============================] - 67s 157us/sample - loss: 0.6880 - acc: 0.8266 - val_loss: 0.6057 - val_acc: 0.8395\n",
            "Epoch 30/40\n",
            "423000/423000 [==============================] - 66s 155us/sample - loss: 0.6876 - acc: 0.8268 - val_loss: 0.6092 - val_acc: 0.8416\n",
            "Epoch 31/40\n",
            "423000/423000 [==============================] - 66s 156us/sample - loss: 0.6895 - acc: 0.8262 - val_loss: 0.6090 - val_acc: 0.8384\n",
            "Epoch 32/40\n",
            "423000/423000 [==============================] - 67s 159us/sample - loss: 0.6871 - acc: 0.8272 - val_loss: 0.6060 - val_acc: 0.8398\n",
            "Epoch 33/40\n",
            "423000/423000 [==============================] - 67s 159us/sample - loss: 0.6841 - acc: 0.8273 - val_loss: 0.6063 - val_acc: 0.8398\n",
            "Epoch 34/40\n",
            "423000/423000 [==============================] - 67s 159us/sample - loss: 0.6841 - acc: 0.8272 - val_loss: 0.6011 - val_acc: 0.8408\n",
            "Epoch 35/40\n",
            "423000/423000 [==============================] - 66s 157us/sample - loss: 0.6820 - acc: 0.8279 - val_loss: 0.6162 - val_acc: 0.8362\n",
            "Epoch 36/40\n",
            "423000/423000 [==============================] - 66s 157us/sample - loss: 0.6835 - acc: 0.8277 - val_loss: 0.6030 - val_acc: 0.8404\n",
            "Epoch 37/40\n",
            "423000/423000 [==============================] - 66s 157us/sample - loss: 0.6815 - acc: 0.8282 - val_loss: 0.6016 - val_acc: 0.8395\n",
            "Epoch 38/40\n",
            "423000/423000 [==============================] - 68s 160us/sample - loss: 0.6802 - acc: 0.8285 - val_loss: 0.6070 - val_acc: 0.8396\n",
            "Epoch 39/40\n",
            "423000/423000 [==============================] - 66s 157us/sample - loss: 0.6823 - acc: 0.8279 - val_loss: 0.6055 - val_acc: 0.8410\n",
            "Epoch 40/40\n",
            "423000/423000 [==============================] - 68s 160us/sample - loss: 0.6761 - acc: 0.8293 - val_loss: 0.6035 - val_acc: 0.8417\n"
          ]
        }
      ]
    },
    {
      "cell_type": "code",
      "metadata": {
        "id": "hE_dVQbwIsPK"
      },
      "source": [
        "# model.save('QuickDraw.h5')\n",
        "# model_save_dir = \"/content/drive/My Drive/CMPM146 Final Project/Models/QuickDraw5.h5\"\n",
        "# model.save(model_save_dir, save_format='h5')"
      ],
      "execution_count": null,
      "outputs": []
    },
    {
      "cell_type": "code",
      "metadata": {
        "id": "b3wmcpBrOI2V"
      },
      "source": [
        "def keras_process_image(img):\n",
        "    image_x = 28\n",
        "    image_y = 28\n",
        "    img = cv2.resize(img, (image_x, image_y))\n",
        "    img = np.array(img, dtype=np.float32)\n",
        "    img = np.reshape(img, (-1, image_x, image_y, 1))\n",
        "    return img"
      ],
      "execution_count": null,
      "outputs": []
    },
    {
      "cell_type": "code",
      "metadata": {
        "id": "FHOfE_ZSOCs2"
      },
      "source": [
        "top_k = 10\n",
        "def keras_predict(model, image):\n",
        "    processed = keras_process_image(image)\n",
        "    # print(\"processed: \" + str(processed.shape))\n",
        "    preds = model.predict(processed)[0]\n",
        "    # pred_probab = model.predict(processed)[0]\n",
        "    # topIndices = np.argpartition(preds, -1*top_k)[-1*top_k:]\n",
        "    # topIndices[np.argsort(preds[ind])]\n",
        "    topIndices = (-preds).argsort()[:top_k]\n",
        "    # print(\"preds:\", preds)\n",
        "    # print(\"preds[0]\", preds[0])\n",
        "    # print(\"indices:\", topIndices)\n",
        "    # pred_class = list(pred_probab).index(max(pred_probab))\n",
        "    # return max(pred_probab), pred_class\n",
        "    # print(preds)\n",
        "    return topIndices, preds"
      ],
      "execution_count": null,
      "outputs": []
    },
    {
      "cell_type": "markdown",
      "metadata": {
        "id": "uSDk165wUqmZ"
      },
      "source": [
        "Predict On test data"
      ]
    },
    {
      "cell_type": "code",
      "metadata": {
        "id": "f5ZS6BEDVjWr"
      },
      "source": [
        "model_save_dir = \"/content/drive/My Drive/CMPM146 Final Project/Models/QuickDraw5.h5\"\n",
        "model = tf.keras.models.load_model(model_save_dir)\n",
        "# model = tf.keras.models.load_model('QuickDraw.h5')\n",
        "# score, acc = model.evaluate(test_x, test_y, verbose = 1)"
      ],
      "execution_count": null,
      "outputs": []
    },
    {
      "cell_type": "code",
      "metadata": {
        "id": "hFV14GpDUpyd",
        "colab": {
          "base_uri": "https://localhost:8080/"
        },
        "outputId": "4ea110a2-3096-4558-c0ea-476d0d70c9db"
      },
      "source": [
        "# pred_probab, pred_class = keras_predict(model, test_data)\n",
        "preds, probs = keras_predict(model, test_data)\n",
        "# pred_classes = [label_dict[i] for i in range(top_k)]\n",
        "pred_classes = []\n",
        "for idx in preds:\n",
        "  # print(label_dict[idx])\n",
        "  pred_classes.append(label_dict[idx])\n",
        "print(\"top labels:\", pred_classes)\n",
        "pred_class = preds[0]\n",
        "print(\"prob:\", probs[pred_class], \"label:\", pred_class)\n",
        "print(\"Correct label was:\", test_label, label_dict[test_label])\n",
        "print(\"Match: \", test_label == pred_class)"
      ],
      "execution_count": null,
      "outputs": [
        {
          "output_type": "stream",
          "name": "stdout",
          "text": [
            "top labels: ['rifle', 'pencil', 'garden hose', 'knife', 'ladder', 'fire hydrant', 'bandage', 'laptop', 'wristwatch', 'baseball bat']\n",
            "prob: 0.17287056 label: 42\n",
            "Correct label was: 15 eye\n",
            "Match:  False\n"
          ]
        }
      ]
    },
    {
      "cell_type": "markdown",
      "metadata": {
        "id": "nnp7HAsHaJ5N"
      },
      "source": [
        "Standalone prediction demonstration"
      ]
    },
    {
      "cell_type": "code",
      "metadata": {
        "id": "6usTYgfJaN6G"
      },
      "source": [
        "# Takes in a grayscale 28x28 image (or size 784) and returns \n",
        "# a pair label, class_num that is the models prediction for that input data\n",
        "def predict(img):\n",
        "  # load_model = tf.keras.models.load_model('QuickDraw.h5')\n",
        "  load_model = tf.keras.models.load_model(model_save_dir)\n",
        "  # load_model.summary()\n",
        "  preds, probs = keras_predict(model, test_data)\n",
        "  print(probs)\n",
        "  pred_class = preds[0]\n",
        "  # pred_probab, pred_class = keras_predict(model, test_data)\n",
        "  print(\"Predicted class:\", pred_class, \"probability:\", probs[pred_class])\n",
        "  return pred_class, label_dict[pred_class]\n"
      ],
      "execution_count": null,
      "outputs": []
    },
    {
      "cell_type": "code",
      "metadata": {
        "id": "rCc_wXlXjxFW",
        "colab": {
          "base_uri": "https://localhost:8080/"
        },
        "outputId": "84d568f2-cd2a-4a01-8959-f185e1d9391b"
      },
      "source": [
        "pred_class, label = predict(test_data)\n",
        "print('Predicted label:', label + ', ', \"class:\", pred_class)"
      ],
      "execution_count": null,
      "outputs": [
        {
          "output_type": "stream",
          "name": "stdout",
          "text": [
            "[0.01151847 0.0050349  0.02292277 0.02836594 0.0140031  0.01315153\n",
            " 0.00182685 0.00454412 0.00347492 0.0209852  0.00101916 0.00251292\n",
            " 0.01235675 0.00586941 0.00620881 0.00252851 0.00615053 0.0130785\n",
            " 0.00291254 0.07855823 0.03174485 0.01976155 0.01908302 0.01681131\n",
            " 0.01128912 0.01881279 0.00662363 0.00696314 0.00735108 0.00887705\n",
            " 0.00647851 0.01292185 0.04439755 0.02536886 0.01478962 0.00960225\n",
            " 0.07479897 0.01008133 0.12003033 0.02125972 0.01518746 0.01177618\n",
            " 0.17287056 0.02186818 0.00227727 0.02531067 0.00664003]\n",
            "Predicted class: 42 probability: 0.17287056\n",
            "Predicted label: rifle,  class: 42\n"
          ]
        }
      ]
    },
    {
      "cell_type": "code",
      "metadata": {
        "id": "Lp7BD86lLHPg",
        "colab": {
          "base_uri": "https://localhost:8080/",
          "height": 303
        },
        "outputId": "affd776b-65e0-4c79-c03f-1a830243d391"
      },
      "source": [
        "test_img = np.reshape(test_data, (28, 28))\n",
        "print(np.shape(test_img))\n",
        "matplotlib.image.imsave('test.png', test_img)\n",
        "matplotlib.pyplot.imshow(test_img, cmap='binary')"
      ],
      "execution_count": null,
      "outputs": [
        {
          "output_type": "stream",
          "name": "stdout",
          "text": [
            "(28, 28)\n"
          ]
        },
        {
          "output_type": "execute_result",
          "data": {
            "text/plain": [
              "<matplotlib.image.AxesImage at 0x7fcfeb0ad2d0>"
            ]
          },
          "metadata": {},
          "execution_count": 30
        },
        {
          "output_type": "display_data",
          "data": {
            "image/png": "[encoded data removed]",
            "text/plain": [
              "<Figure size 432x288 with 1 Axes>"
            ]
          },
          "metadata": {
            "needs_background": "light"
          }
        }
      ]
    },
    {
      "cell_type": "markdown",
      "metadata": {
        "id": "E9K9KpvCXObA"
      },
      "source": [
        "Get a test item from the dataset, run prediction on it. Displays image, correct label, and predicted label"
      ]
    },
    {
      "cell_type": "code",
      "metadata": {
        "id": "9jbnqJ73PEgN",
        "colab": {
          "base_uri": "https://localhost:8080/",
          "height": 424
        },
        "outputId": "54c933c1-8ea9-4c6e-c068-565d09e6da8d"
      },
      "source": [
        "test_item, test_item_class = get_item('compass', 23)\n",
        "print(test_item_class, label_dict[test_item_class])\n",
        "test_img = np.reshape(test_item, (28, 28))\n",
        "print(np.shape(test_img))\n",
        "# matplotlib.image.imsave('test.png', test_img)\n",
        "matplotlib.pyplot.imshow(test_img, cmap='binary')\n",
        "%time preds, probs = keras_predict(model, test_item)\n",
        "# pred_classes = [label_dict[i] for i in range(top_k)]\n",
        "pred_classes = []\n",
        "for idx in preds:\n",
        "  # print(label_dict[idx])\n",
        "  pred_classes.append(label_dict[idx])\n",
        "print(\"top labels:\", pred_classes)\n",
        "pred_class = preds[0]\n",
        "print(\"prob:\", probs[pred_class], \"label:\", pred_class)\n",
        "print(\"Correct label was:\", test_item_class, label_dict[test_item_class])\n",
        "print(\"Match: \", test_item_class == pred_class)\n",
        "# pred_class, label = predict(test_data)\n",
        "# print('Predicted label:', label + ', ', \"class:\", pred_class)\n"
      ],
      "execution_count": null,
      "outputs": [
        {
          "output_type": "stream",
          "name": "stdout",
          "text": [
            "item base shape: (127609, 784)\n",
            "14 compass\n",
            "(28, 28)\n",
            "CPU times: user 50.8 ms, sys: 3.79 ms, total: 54.6 ms\n",
            "Wall time: 52.9 ms\n",
            "top labels: ['garden hose', 'baseball bat', 'laptop', 'rifle', 'computer', 'pencil', 'fire hydrant', 'knife', 'hammer', 'shovel']\n",
            "prob: 0.21258721 label: 19\n",
            "Correct label was: 14 compass\n",
            "Match:  False\n"
          ]
        },
        {
          "output_type": "display_data",
          "data": {
            "image/png": "[encoded data removed]",
            "text/plain": [
              "<Figure size 432x288 with 1 Axes>"
            ]
          },
          "metadata": {
            "needs_background": "light"
          }
        }
      ]
    }
  ]
}